{
 "cells": [
  {
   "cell_type": "markdown",
   "metadata": {},
   "source": [
    "1. Даны значения величины заработной платы заемщиков банка (zp) и значения их поведенческого кредитного скоринга (ks): zp = [35, 45, 190, 200, 40, 70, 54, 150, 120, 110], ks = [401, 574, 874, 919, 459, 739, 653, 902, 746, 832]. Используя математические операции, посчитать коэффициенты линейной регрессии, приняв за X заработную плату (то есть, zp - признак), а за y - значения скорингового балла (то есть, ks - целевая переменная). Произвести расчет как с использованием intercept, так и без."
   ]
  },
  {
   "cell_type": "code",
   "execution_count": 1,
   "metadata": {},
   "outputs": [
    {
     "data": {
      "image/png": "[encoded data removed]",
      "text/plain": [
       "<Figure size 432x288 with 1 Axes>"
      ]
     },
     "metadata": {
      "needs_background": "light"
     },
     "output_type": "display_data"
    }
   ],
   "source": [
    "import numpy as np\n",
    "import matplotlib.pyplot as plt\n",
    "import seaborn as sns\n",
    "\n",
    "zp = np.array([35, 45, 190, 200, 40, 70, 54, 150, 120, 110])\n",
    "ks = np.array([401, 574, 874, 919, 459, 739, 653, 902, 746, 832])\n",
    "\n",
    "plt.scatter(zp, ks)\n",
    "plt.show()\n",
    "\n",
    "def mse(y,y1,n):\n",
    "    return f\"mse = {((y-y1)**2).sum()/n}, rmse = {(((y-y1)**2).sum()/n)**0.5}\""
   ]
  },
  {
   "cell_type": "markdown",
   "metadata": {},
   "source": [
    "с использованием intercept"
   ]
  },
  {
   "cell_type": "code",
   "execution_count": 2,
   "metadata": {},
   "outputs": [
    {
     "data": {
      "text/plain": [
       "'ks = 444.1773573243596 + 2.620538882402765*zp'"
      ]
     },
     "execution_count": 2,
     "metadata": {},
     "output_type": "execute_result"
    }
   ],
   "source": [
    "b = (np.mean(zp*ks) - np.mean(zp)*np.mean(ks))/(np.mean(zp**2) - np.mean(zp)**2)\n",
    "a = np.mean(ks) - b*np.mean(zp)\n",
    "f\"ks = {a} + {b}*zp\""
   ]
  },
  {
   "cell_type": "code",
   "execution_count": 3,
   "metadata": {},
   "outputs": [
    {
     "data": {
      "text/plain": [
       "array([535.89621821, 562.10160703, 942.07974498, 968.2851338 ,\n",
       "       548.99891262, 627.61507909, 585.68645697, 837.25818968,\n",
       "       758.64202321, 732.43663439])"
      ]
     },
     "execution_count": 3,
     "metadata": {},
     "output_type": "execute_result"
    }
   ],
   "source": [
    "ks_int = a + b*zp\n",
    "ks_int"
   ]
  },
  {
   "cell_type": "code",
   "execution_count": 4,
   "metadata": {},
   "outputs": [
    {
     "data": {
      "image/png": "[encoded data removed]",
      "text/plain": [
       "<Figure size 432x288 with 1 Axes>"
      ]
     },
     "metadata": {
      "needs_background": "light"
     },
     "output_type": "display_data"
    }
   ],
   "source": [
    "plt.scatter(zp, ks)\n",
    "plt.plot(zp,ks_int)\n",
    "plt.show()"
   ]
  },
  {
   "cell_type": "code",
   "execution_count": 5,
   "metadata": {},
   "outputs": [
    {
     "data": {
      "text/plain": [
       "'mse = 6470.414201176658, rmse = 80.43888488272732'"
      ]
     },
     "execution_count": 5,
     "metadata": {},
     "output_type": "execute_result"
    }
   ],
   "source": [
    "mse(ks,ks_int,len(ks))"
   ]
  },
  {
   "cell_type": "markdown",
   "metadata": {},
   "source": [
    "без использования intercept матречным методом"
   ]
  },
  {
   "cell_type": "code",
   "execution_count": 6,
   "metadata": {},
   "outputs": [
    {
     "data": {
      "text/plain": [
       "array([[ 35],\n",
       "       [ 45],\n",
       "       [190],\n",
       "       [200],\n",
       "       [ 40],\n",
       "       [ 70],\n",
       "       [ 54],\n",
       "       [150],\n",
       "       [120],\n",
       "       [110]])"
      ]
     },
     "execution_count": 6,
     "metadata": {},
     "output_type": "execute_result"
    }
   ],
   "source": [
    "zp_m = zp.reshape((len(zp),1))\n",
    "zp_m"
   ]
  },
  {
   "cell_type": "code",
   "execution_count": 7,
   "metadata": {},
   "outputs": [
    {
     "data": {
      "text/plain": [
       "array([[401],\n",
       "       [574],\n",
       "       [874],\n",
       "       [919],\n",
       "       [459],\n",
       "       [739],\n",
       "       [653],\n",
       "       [902],\n",
       "       [746],\n",
       "       [832]])"
      ]
     },
     "execution_count": 7,
     "metadata": {},
     "output_type": "execute_result"
    }
   ],
   "source": [
    "ks_m = ks.reshape((len(ks),1))\n",
    "ks_m"
   ]
  },
  {
   "cell_type": "code",
   "execution_count": 8,
   "metadata": {},
   "outputs": [
    {
     "data": {
      "text/plain": [
       "'ks = 5.889820420132688*zp'"
      ]
     },
     "execution_count": 8,
     "metadata": {},
     "output_type": "execute_result"
    }
   ],
   "source": [
    "b_m = np.dot(np.linalg.inv(np.dot(zp_m.T,zp_m)),zp_m.T@ks_m)[0,0]\n",
    "f\"ks = {b_m}*zp\""
   ]
  },
  {
   "cell_type": "code",
   "execution_count": 9,
   "metadata": {},
   "outputs": [
    {
     "data": {
      "image/png": "[encoded data removed]",
      "text/plain": [
       "<Figure size 432x288 with 1 Axes>"
      ]
     },
     "metadata": {
      "needs_background": "light"
     },
     "output_type": "display_data"
    }
   ],
   "source": [
    "plt.scatter(zp, ks)\n",
    "plt.plot(zp,b_m*zp)\n",
    "plt.show()"
   ]
  },
  {
   "cell_type": "code",
   "execution_count": 10,
   "metadata": {},
   "outputs": [
    {
     "data": {
      "text/plain": [
       "'mse = 56516.8584157194, rmse = 237.7327457792035'"
      ]
     },
     "execution_count": 10,
     "metadata": {},
     "output_type": "execute_result"
    }
   ],
   "source": [
    "mse(ks,b_m*zp,len(ks))"
   ]
  },
  {
   "cell_type": "markdown",
   "metadata": {},
   "source": [
    "ВЫВОД с intercept модель более точно описывает зависимость исходя из rmse"
   ]
  },
  {
   "cell_type": "markdown",
   "metadata": {},
   "source": [
    "2. Посчитать коэффициент линейной регрессии при заработной плате (zp), используя градиентный спуск (без intercept)."
   ]
  },
  {
   "cell_type": "code",
   "execution_count": 11,
   "metadata": {},
   "outputs": [],
   "source": [
    "def mse_grad(b1,b0,y,x,n):\n",
    "    mse = np.sum((b1*x + b0 - y)**2)/n\n",
    "    rmse = (mse)**0.5\n",
    "    return f\"mse = {mse}, rmse = {rmse}\""
   ]
  },
  {
   "cell_type": "code",
   "execution_count": 12,
   "metadata": {},
   "outputs": [],
   "source": [
    "alpha = 1e-6\n",
    "b1 = 5.889\n",
    "n = len(zp)"
   ]
  },
  {
   "cell_type": "code",
   "execution_count": 13,
   "metadata": {
    "scrolled": true
   },
   "outputs": [
    {
     "name": "stdout",
     "output_type": "stream",
     "text": [
      "b1 = 5.8890445875544035, mse = 56516.86670807798, rmse = 237.7327632197085\n",
      "b1 = 5.889065964224599, mse = 56516.86625741133, rmse = 237.73276227186554\n",
      "b1 = 5.889086751899126, mse = 56516.86583123717, rmse = 237.7327613755352\n",
      "b1 = 5.889106966806699, mse = 56516.86542822438, rmse = 237.73276052791795\n",
      "b1 = 5.88912662472888, mse = 56516.865047114225, rmse = 237.73275972636634\n",
      "b1 = 5.889145741012401, mse = 56516.86468671635, rmse = 237.73275896837683\n",
      "b1 = 5.889164330581138, mse = 56516.86434590508, rmse = 237.73275825158188\n",
      "b1 = 5.88918240794777, mse = 56516.86402361597, rmse = 237.73275757374282\n",
      "b1 = 5.889199987225103, mse = 56516.86371884237, rmse = 237.73275693274238\n",
      "b1 = 5.889233706029552, mse = 56516.86315808581, rmse = 237.73275575335808\n",
      "b1 = 5.889249871880579, mse = 56516.86290035136, rmse = 237.73275521129048\n",
      "b1 = 5.889265592310679, mse = 56516.86265662408, rmse = 237.73275469868278\n",
      "b1 = 5.889280879592624, mse = 56516.86242614269, rmse = 237.73275421393387\n",
      "b1 = 5.889295745661032, mse = 56516.86220818735, rmse = 237.73275375552976\n",
      "b1 = 5.889310202121685, mse = 56516.86200207724, rmse = 237.73275332203858\n",
      "b1 = 5.889324260260586, mse = 56516.86180716868, rmse = 237.7327529121065\n",
      "b1 = 5.889337931052774, mse = 56516.86162285281, rmse = 237.732752524453\n",
      "b1 = 5.88935122517089, mse = 56516.86144855402, rmse = 237.73275215786742\n",
      "b1 = 5.889376724613251, mse = 56516.861127859585, rmse = 237.73275148338226\n",
      "b1 = 5.889388949844637, mse = 56516.86098046232, rmse = 237.73275117337602\n",
      "b1 = 5.8894008382317775, mse = 56516.86084107566, rmse = 237.7327508802177\n",
      "b1 = 5.88941239905581, mse = 56516.86070926429, rmse = 237.73275060299179\n",
      "b1 = 5.8894236413421455, mse = 56516.86058461651, rmse = 237.73275034083233\n",
      "b1 = 5.889434573867517, mse = 56516.86046674298, rmse = 237.73275009292047\n",
      "b1 = 5.8894452051668305, mse = 56516.860355275545, rmse = 237.73274985848195\n",
      "b1 = 5.889455543539828, mse = 56516.860249866055, rmse = 237.7327496367845\n",
      "b1 = 5.8894655970575664, mse = 56516.86015018528, rmse = 237.73274942713567\n",
      "b1 = 5.889484880705706, mse = 56516.85996678144, rmse = 237.73274904140035\n",
      "b1 = 5.8894941258906455, mse = 56516.85988248553, rmse = 237.73274886410903\n",
      "b1 = 5.889503116341156, mse = 56516.85980277086, rmse = 237.73274869645297\n",
      "b1 = 5.889511859075984, mse = 56516.859727388466, rmse = 237.73274853790858\n",
      "b1 = 5.889520360920492, mse = 56516.85965610292, rmse = 237.73274838798065\n",
      "b1 = 5.889528628511977, mse = 56516.8595886915, rmse = 237.73274824620083\n",
      "b1 = 5.889536668304861, mse = 56516.859524943735, rmse = 237.7327481121264\n",
      "b1 = 5.889544486575724, mse = 56516.859464660476, rmse = 237.7327479853385\n",
      "b1 = 5.889552089428205, mse = 56516.859407653435, rmse = 237.73274786544118\n",
      "b1 = 5.889566672456348, mse = 56516.85930276553, rmse = 237.73274764484074\n",
      "b1 = 5.889573664016823, mse = 56516.85925455702, rmse = 237.7327475434485\n",
      "b1 = 5.889580462937435, mse = 56516.859208968526, rmse = 237.73274744756668\n",
      "b1 = 5.889587074526027, mse = 56516.85916585764, rmse = 237.7327473568958\n",
      "b1 = 5.889593503944196, mse = 56516.85912508973, rmse = 237.73274727115265\n",
      "b1 = 5.889599756211321, mse = 56516.85908653742, rmse = 237.73274719006935\n",
      "b1 = 5.889605836208479, mse = 56516.85905008031, rmse = 237.73274711339266\n",
      "b1 = 5.88961174868226, mse = 56516.859015604576, rmse = 237.73274704088323\n",
      "b1 = 5.889617498248468, mse = 56516.858983002465, rmse = 237.7327469723144\n",
      "b1 = 5.88962852648899, mse = 56516.8589230175, rmse = 237.7327468461539\n",
      "b1 = 5.889633813772934, mse = 56516.858895447265, rmse = 237.73274678816813\n",
      "b1 = 5.889638955375286, mse = 56516.858869375385, rmse = 237.7327467333337\n",
      "b1 = 5.8896439553100395, mse = 56516.85884472043, rmse = 237.73274668147934\n",
      "b1 = 5.889648817480591, mse = 56516.85882140541, rmse = 237.73274663244314\n",
      "b1 = 5.889653545682785, mse = 56516.85879935751, rmse = 237.73274658607195\n",
      "b1 = 5.889658143607878, mse = 56516.858778507856, rmse = 237.73274654222092\n",
      "b1 = 5.889662614845422, mse = 56516.858758791306, rmse = 237.73274650075305\n",
      "b1 = 5.889666962886063, mse = 56516.858740146316, rmse = 237.73274646153885\n",
      "b1 = 5.889675302860986, mse = 56516.858705841136, rmse = 237.73274638938813\n",
      "b1 = 5.889679301306196, mse = 56516.858690073816, rmse = 237.73274635622627\n",
      "b1 = 5.889683189581446, mse = 56516.85867516343, rmse = 237.73274632486672\n",
      "b1 = 5.889686970722271, mse = 56516.858661063365, rmse = 237.73274629521143\n",
      "b1 = 5.889690647680566, mse = 56516.85864772958, rmse = 237.73274626716778\n",
      "b1 = 5.889694223326893, mse = 56516.85863512049, rmse = 237.7327462406483\n",
      "b1 = 5.8896977004527225, mse = 56516.85862319668, rmse = 237.73274621557013\n",
      "b1 = 5.889701081772609, mse = 56516.85861192085, rmse = 237.7327461918548\n",
      "b1 = 5.889704369926312, mse = 56516.858601257845, rmse = 237.73274616942834\n",
      "b1 = 5.889710676932545, mse = 56516.85858163885, rmse = 237.73274612816564\n",
      "b1 = 5.889713700708887, mse = 56516.8585726216, rmse = 237.73274610920052\n",
      "b1 = 5.889716641170515, mse = 56516.858564094386, rmse = 237.73274609126608\n",
      "b1 = 5.889719500613015, mse = 56516.858556030624, rmse = 237.73274607430636\n",
      "b1 = 5.889722281268725, mse = 56516.8585484051, rmse = 237.73274605826833\n",
      "b1 = 5.889724985308471, mse = 56516.858541194, rmse = 237.73274604310194\n",
      "b1 = 5.88972761484327, mse = 56516.85853437481, rmse = 237.7327460287598\n",
      "b1 = 5.8897301719259705, mse = 56516.858527926226, rmse = 237.73274601519714\n",
      "b1 = 5.88973265855286, mse = 56516.85852182808, rmse = 237.7327460023715\n",
      "b1 = 5.889737428150848, mse = 56516.858510608065, rmse = 237.73274597877352\n",
      "b1 = 5.889739714845522, mse = 56516.858505451135, rmse = 237.73274596792746\n",
      "b1 = 5.88974193853444, mse = 56516.85850057446, rmse = 237.73274595767083\n",
      "b1 = 5.889744100953613, mse = 56516.85849596282, rmse = 237.73274594797164\n",
      "b1 = 5.889746203791217, mse = 56516.858491601815, rmse = 237.73274593879955\n",
      "b1 = 5.889748248688917, mse = 56516.85848747783, rmse = 237.732745930126\n",
      "b1 = 5.889750237243142, mse = 56516.85848357795, rmse = 237.73274592192374\n",
      "b1 = 5.889752171006334, mse = 56516.85847989002, rmse = 237.73274591416728\n",
      "b1 = 5.889754051488162, mse = 56516.85847640253, rmse = 237.73274590683238\n",
      "b1 = 5.8897576584395654, mse = 56516.85846998585, rmse = 237.7327458933368\n",
      "b1 = 5.889759387725048, mse = 56516.858467036625, rmse = 237.732745887134\n",
      "b1 = 5.889761069363183, mse = 56516.858464247685, rmse = 237.7327458812683\n",
      "b1 = 5.889762704666805, mse = 56516.858461610296, rmse = 237.73274587572132\n",
      "b1 = 5.889764294912579, mse = 56516.858459116265, rmse = 237.73274587047587\n",
      "b1 = 5.889765841341994, mse = 56516.85845675775, rmse = 237.73274586551545\n",
      "b1 = 5.88976734516233, mse = 56516.85845452745, rmse = 237.73274586082468\n",
      "b1 = 5.889768807547603, mse = 56516.85845241832, rmse = 237.73274585638873\n",
      "b1 = 5.889770229639483, mse = 56516.85845042383, rmse = 237.73274585219394\n"
     ]
    }
   ],
   "source": [
    "for i in range(100):\n",
    "    b1 -= alpha*(2/n)*np.sum((b1*zp - ks)*zp)\n",
    "    if i%10:    \n",
    "        print(f\"b1 = {b1}, {mse_grad(b1,0,ks,zp,n)}\")\n",
    "        "
   ]
  },
  {
   "cell_type": "markdown",
   "metadata": {},
   "source": [
    "методом подбора определили b1 = 5.8897 с приемлемой ошибкой "
   ]
  },
  {
   "cell_type": "markdown",
   "metadata": {},
   "source": [
    "3*. Произвести вычисления как в пункте 2, но с вычислением intercept. Учесть, что изменение коэффициентов должно производиться на каждом шаге одновременно (то есть изменение одного коэффициента не должно влиять на изменение другого во время одной итерации)."
   ]
  },
  {
   "cell_type": "code",
   "execution_count": 14,
   "metadata": {},
   "outputs": [
    {
     "name": "stdout",
     "output_type": "stream",
     "text": [
      "b1 = 2.5718291814862617 a = 449.11652099729304, mse = 6478.7057062250715, rmse = 80.49040754167586\n",
      "b1 = 2.5727433942482283 a = 449.0238198232296, mse = 6478.397387153851, rmse = 80.48849226537823\n",
      "b1 = 2.573657355115324 a = 448.9311441913061, mse = 6478.094992155529, rmse = 80.4866137451162\n",
      "b1 = 2.5745710641569546 a = 448.83849409448476, mse = 6477.798516380551, rmse = 80.4847719533363\n",
      "b1 = 2.5754845214425055 a = 448.7458695257299, mse = 6477.507954982475, rmse = 80.48296686245155\n",
      "b1 = 2.5763977270413436 a = 448.6532704780077, mse = 6477.223303117947, rmse = 80.48119844484143\n",
      "b1 = 2.5773106810228166 a = 448.56069694428635, mse = 6476.944555946735, rmse = 80.47946667285224\n",
      "b1 = 2.578223383456253 a = 448.4681489175359, mse = 6476.6717086317085, rmse = 80.4777715187971\n",
      "b1 = 2.5791358344109625 a = 448.37562639072837, mse = 6476.404756338829, rmse = 80.47611295495595\n",
      "b1 = 2.580959982161344 a = 448.1906578088397, mse = 6475.8885174988945, rmse = 80.47290548687114\n",
      "b1 = 2.581871679095539 a = 448.0982117397123, mse = 6475.63922129927, rmse = 80.47135652702313\n",
      "b1 = 2.5827831248280546 a = 448.0057911424352, mse = 6475.395800816646, rmse = 80.46984404618073\n",
      "b1 = 2.5836943194281043 a = 447.9133960099902, mse = 6475.158251232477, rmse = 80.46836801646022\n",
      "b1 = 2.5846052629648835 a = 447.8210263353608, mse = 6474.926567731299, rmse = 80.46692840994552\n",
      "b1 = 2.585515955507568 a = 447.7286821115325, mse = 6474.700745500743, rmse = 80.46552519868831\n",
      "b1 = 2.586426397125315 a = 447.636363331493, mse = 6474.480779731521, rmse = 80.46415835470798\n",
      "b1 = 2.5873365878872625 a = 447.54406998823157, mse = 6474.266665617435, rmse = 80.46282784999192\n",
      "b1 = 2.5882465278625286 a = 447.45180207473953, mse = 6474.058398355365, rmse = 80.46153365649555\n",
      "b1 = 2.5900656557293984 a = 447.26734250903894, mse = 6473.6593851902235, rmse = 80.45905409082451\n",
      "b1 = 2.590974843759144 a = 447.17515084282275, mse = 6473.468629696321, rmse = 80.45786866240195\n",
      "b1 = 2.591883781278493 a = 447.08298457836077, mse = 6473.2837018727705, rmse = 80.45671943270351\n",
      "b1 = 2.59279246835647 a = 446.9908437086539, mse = 6473.104596931837, rmse = 80.45560637352649\n",
      "b1 = 2.5937009050620787 a = 446.8987282267052, mse = 6472.931310088876, rmse = 80.45452945663703\n",
      "b1 = 2.594609091464305 a = 446.80663812551944, mse = 6472.763836562301, rmse = 80.45348865377001\n",
      "b1 = 2.595517027632116 a = 446.7145733981034, mse = 6472.602171573594, rmse = 80.45248393662929\n",
      "b1 = 2.596424713634458 a = 446.6225340374659, mse = 6472.446310347306, rmse = 80.45151527688778\n",
      "b1 = 2.597332149540261 a = 446.53052003661753, mse = 6472.296248111061, rmse = 80.4505826461876\n",
      "b1 = 2.5991462713378675 a = 446.3465680863402, mse = 6472.013501534455, rmse = 80.44882535832612\n",
      "b1 = 2.600052957367433 a = 446.2546301229422, mse = 6471.8808076646455, rmse = 80.44800064429597\n",
      "b1 = 2.600959393575984 a = 446.1627174913952, mse = 6471.753893725958, rmse = 80.44721184556963\n",
      "b1 = 2.601865580032353 a = 446.0708301847194, mse = 6471.632754961313, rmse = 80.4464589336368\n",
      "b1 = 2.6027715168053556 a = 445.9789681959369, mse = 6471.5173866166715, rmse = 80.44574187995703\n",
      "b1 = 2.603677203963787 a = 445.88713151807195, mse = 6471.407783941056, rmse = 80.44506065595982\n",
      "b1 = 2.6045826415764246 a = 445.7953201441505, mse = 6471.303942186549, rmse = 80.44441523304492\n",
      "b1 = 2.605487829712026 a = 445.70353406720056, mse = 6471.205856608265, rmse = 80.44380558258209\n",
      "b1 = 2.6063927684393295 a = 445.61177328025195, mse = 6471.113522464379, rmse = 80.44323167591155\n",
      "b1 = 2.6082018979439057 a = 445.4283275484879, mse = 6470.946089527686, rmse = 80.44219097916022\n",
      "b1 = 2.6091060888585615 a = 445.3366425897418, mse = 6470.8709812664465, rmse = 80.44172413161249\n",
      "b1 = 2.6100100306396863 a = 445.2449828931358, mse = 6470.801605502713, rmse = 80.44129291292323\n",
      "b1 = 2.610913723355924 a = 445.15334845170923, mse = 6470.737957509866, rmse = 80.44089729428597\n",
      "b1 = 2.6118171670759005 a = 445.0617392585037, mse = 6470.680032564323, rmse = 80.44053724686529\n",
      "b1 = 2.6127203618682215 a = 444.9701553065623, mse = 6470.627825945531, rmse = 80.44021274179681\n",
      "b1 = 2.6136233078014754 a = 444.87859658893035, mse = 6470.58133293597, rmse = 80.43992375018745\n",
      "b1 = 2.6145260049442305 a = 444.787063098655, mse = 6470.540548821153, rmse = 80.43967024311544\n",
      "b1 = 2.6154284533650363 a = 444.6955548287853, mse = 6470.5054688896225, rmse = 80.43945219163058\n",
      "b1 = 2.617232604314905 a = 444.51261392246863, mse = 6470.45240274573, rmse = 80.43912233947938\n",
      "b1 = 2.6181343069809726 a = 444.42118127212933, mse = 6470.4344071255855, rmse = 80.43901048077099\n",
      "b1 = 2.6190357611991013 a = 444.3297738144111, mse = 6470.422096873153, rmse = 80.43893396156587\n",
      "b1 = 2.619936967037747 a = 444.2383915423724, mse = 6470.41546729209, rmse = 80.43889275277283\n",
      "b1 = 2.620837924565345 a = 444.147034449074, mse = 6470.414513689086, rmse = 80.43888682527304\n",
      "b1 = 2.6217386338503137 a = 444.05570252757815, mse = 6470.419231373831, rmse = 80.43891614991982\n",
      "b1 = 2.622639094961052 a = 443.9643957709493, mse = 6470.4296156590335, rmse = 80.43898069753888\n",
      "b1 = 2.623539307965939 a = 443.87311417225374, mse = 6470.445661860433, rmse = 80.43908043892864\n",
      "b1 = 2.6244392729333366 a = 443.78185772455964, mse = 6470.467365296747, rmse = 80.43921534485992\n",
      "b1 = 2.626238459029013 a = 443.59942025445804, mse = 6470.527725164138, rmse = 80.43959053329485\n",
      "b1 = 2.6271376802939197 a = 443.5082392181965, mse = 6470.566372247734, rmse = 80.43983075720469\n",
      "b1 = 2.628036653794593 a = 443.41708330522823, mse = 6470.610657871267, rmse = 80.44010602846858\n",
      "b1 = 2.6289353795993 a = 443.32595250863096, mse = 6470.660577368511, rmse = 80.44041631772247\n",
      "b1 = 2.629833857776288 a = 443.2348468214844, mse = 6470.716126076239, rmse = 80.44076159557565\n",
      "b1 = 2.630732088393787 a = 443.14376623686996, mse = 6470.777299334208, rmse = 80.44114183261081\n",
      "b1 = 2.6316300715200076 a = 443.0527107478712, mse = 6470.844092485189, rmse = 80.44155699938428\n",
      "b1 = 2.6325278072231417 a = 442.9616803475734, mse = 6470.916500874931, rmse = 80.442007066426\n",
      "b1 = 2.633425295571362 a = 442.8706750290639, mse = 6470.994519852196, rmse = 80.44249200423988\n",
      "b1 = 2.635219530475659 a = 442.6887396097681, mse = 6471.167370979248, rmse = 80.44356637406902\n",
      "b1 = 2.636116277167988 a = 442.59780949516596, mse = 6471.262193841488, rmse = 80.44415574696205\n",
      "b1 = 2.6370127767779072 a = 442.5069044347202, mse = 6471.362608716162, rmse = 80.44477987238304\n",
      "b1 = 2.637909029373496 a = 442.4160244215275, mse = 6471.468610966956, rmse = 80.44543872070656\n",
      "b1 = 2.638805035022815 a = 442.32516944868655, mse = 6471.580195960551, rmse = 80.44613226228189\n",
      "b1 = 2.639700793793905 a = 442.23433950929797, mse = 6471.697359066602, rmse = 80.4468604674328\n",
      "b1 = 2.6405963057547894 a = 442.1435345964643, mse = 6471.820095657744, rmse = 80.44762330645787\n",
      "b1 = 2.6414915709734723 a = 442.05275470328985, mse = 6471.948401109604, rmse = 80.44842074963066\n",
      "b1 = 2.642386589517939 a = 441.96199982288095, mse = 6472.082270800764, rmse = 80.44925276719954\n",
      "b1 = 2.6441758868560714 a = 441.78056507279433, mse = 6472.366684430228, rmse = 80.45102040639527\n",
      "b1 = 2.645070165785614 a = 441.68988518933867, mse = 6472.517219140582, rmse = 80.45195596839508\n",
      "b1 = 2.645964198312695 a = 441.5992302910927, mse = 6472.673299634324, rmse = 80.45292598553718\n",
      "b1 = 2.6468579845052056 a = 441.5086003711721, mse = 6472.834921304909, rmse = 80.45393042794683\n",
      "b1 = 2.647751524431019 a = 441.4179954226946, mse = 6473.002079548741, rmse = 80.45496926572491\n",
      "b1 = 2.6486448181579894 a = 441.32741543877984, mse = 6473.174769765203, rmse = 80.45604246894824\n",
      "b1 = 2.6495378657539526 a = 441.23686041254916, mse = 6473.3529873566185, rmse = 80.45715000766941\n",
      "b1 = 2.6504306672867255 a = 441.146330337126, mse = 6473.536727728295, rmse = 80.45829185191725\n",
      "b1 = 2.651323222824107 a = 441.05582520563553, mse = 6473.725986288478, rmse = 80.45946797169664\n",
      "b1 = 2.653107596183793 a = 440.8748897469634, mse = 6474.121039622199, rmse = 80.4619229177516\n",
      "b1 = 2.6539994141416012 a = 440.7844594060416, mse = 6474.326825227011, rmse = 80.46320168391891\n",
      "b1 = 2.654890986375024 a = 440.69405398157255, mse = 6474.538110682906, rmse = 80.46451460540172\n",
      "b1 = 2.655782312951766 a = 440.60367346669085, mse = 6474.754891412908, rmse = 80.46586165208764\n",
      "b1 = 2.656673393939514 a = 440.5133178545332, mse = 6474.977162842986, rmse = 80.46724279384118\n",
      "b1 = 2.657564229405935 a = 440.42298713823817, mse = 6475.2049204020495, rmse = 80.46865800050384\n",
      "b1 = 2.658454819418678 a = 440.332681310946, mse = 6475.438159521959, rmse = 80.47010724189424\n",
      "b1 = 2.6593451640453742 a = 440.242400365799, mse = 6475.676875637524, rmse = 80.47159048780833\n",
      "b1 = 2.6602352633536346 a = 440.1521442959414, mse = 6475.921064186483, rmse = 80.47310770801934\n"
     ]
    }
   ],
   "source": [
    "b1 = 2.57\n",
    "alpha = 1e-8\n",
    "\n",
    "for i in range(100):\n",
    "    b1 -= alpha*(2/n)*np.sum((b1*zp - ks)*zp)\n",
    "    a = np.mean(ks) - b1*np.mean(zp)\n",
    "    if i%10:    \n",
    "        print(f\"b1 = {b1} a = {a}, {mse_grad(b1,a,ks,zp,n)}\")\n",
    "        "
   ]
  },
  {
   "cell_type": "markdown",
   "metadata": {},
   "source": [
    "Аналогично методом перебора определили подходящуюю величину b1 = 2.620837924565345 a = 444.147034449074 (можно было увеличить точность, но думаю, она достаточная =) )"
   ]
  }
 ],
 "metadata": {
  "kernelspec": {
   "display_name": "Python 3",
   "language": "python",
   "name": "python3"
  },
  "language_info": {
   "codemirror_mode": {
    "name": "ipython",
    "version": 3
   },
   "file_extension": ".py",
   "mimetype": "text/x-python",
   "name": "python",
   "nbconvert_exporter": "python",
   "pygments_lexer": "ipython3",
   "version": "3.8.3"
  }
 },
 "nbformat": 4,
 "nbformat_minor": 4
}
