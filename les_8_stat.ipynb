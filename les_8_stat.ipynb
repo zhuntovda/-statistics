{
 "cells": [
  {
   "cell_type": "markdown",
   "metadata": {},
   "source": [
    "Урок 8.\n",
    "1. Провести дисперсионный анализ для определения того, есть ли различия среднего роста среди взрослых футболистов, хоккеистов и штангистов.\n",
    "Даны значения роста в трех группах случайно выбранных спортсменов:\n",
    "Футболисты: 173, 175, 180, 178, 177, 185, 183, 182.\n",
    "Хоккеисты: 177, 179, 180, 188, 177, 172, 171, 184, 180.\n",
    "Штангисты: 172, 173, 169, 177, 166, 180, 178, 177, 172, 166, 170."
   ]
  },
  {
   "cell_type": "code",
   "execution_count": 1,
   "metadata": {},
   "outputs": [
    {
     "name": "stdout",
     "output_type": "stream",
     "text": [
      "S2 = 834.9093651158041 = S2F + S2O = 834.9093651158046\n"
     ]
    }
   ],
   "source": [
    "import numpy as np\n",
    "\n",
    "Ft = np.array([173, 175, 180, 178, 177, 185, 183, 182])\n",
    "n_Ft = len(Ft)\n",
    "y_Ft = np.mean(Ft)\n",
    "\n",
    "Hk = np.array([177, 179, 180, 188, 177, 172, 171, 184, 180])\n",
    "n_Hk = len(Hk)\n",
    "y_Hk = np.mean(Hk)\n",
    "\n",
    "Hr = np.array([172, 173, 169, 177, 166, 180, 178, 177, 172, 166, 170])\n",
    "n_Hr = len(Hr)\n",
    "y_Hr = np.mean(Hr)\n",
    "\n",
    "n = n_Ft + n_Hk + n_Hr\n",
    "y = np.mean([y_Ft,y_Hk,y_Hr])\n",
    "k = 3\n",
    "\n",
    "S2 = np.sum((Ft - y)**2) + np.sum((Hk - y)**2) + np.sum((Hr - y)**2)\n",
    "S2F = ((np.mean(Ft) - y)**2)*len(Ft) + ((np.mean(Hk) - y)**2)*len(Hk) + ((np.mean(Hr) - y)**2)*len(Hr)\n",
    "S2O = np.sum((Ft - np.mean(Ft))**2) + np.sum((Hk - np.mean(Hk))**2) + np.sum((Hr - np.mean(Hr))**2)\n",
    "\n",
    "print(f\"S2 = {S2} = S2F + S2O = {S2F + S2O}\")"
   ]
  },
  {
   "cell_type": "code",
   "execution_count": 2,
   "metadata": {},
   "outputs": [
    {
     "data": {
      "text/plain": [
       "5.585510360713357"
      ]
     },
     "execution_count": 2,
     "metadata": {},
     "output_type": "execute_result"
    }
   ],
   "source": [
    "std2F = S2F/(k-1)\n",
    "std2O = S2O/(n-k)\n",
    "Fn = std2F/std2O\n",
    "Fn"
   ]
  },
  {
   "cell_type": "markdown",
   "metadata": {},
   "source": [
    "По таблице F = 3.385 =>  Fn > F => различие между группами статистически значимо"
   ]
  },
  {
   "cell_type": "code",
   "execution_count": 3,
   "metadata": {},
   "outputs": [
    {
     "data": {
      "text/plain": [
       "F_onewayResult(statistic=5.500053450812596, pvalue=0.010482206918698694)"
      ]
     },
     "execution_count": 3,
     "metadata": {},
     "output_type": "execute_result"
    }
   ],
   "source": [
    "from scipy import stats\n",
    "\n",
    "stats.f_oneway(Ft,Hk,Hr)"
   ]
  },
  {
   "cell_type": "markdown",
   "metadata": {},
   "source": [
    "Подтвердили через функцию f_oneway, по значению pvalue"
   ]
  }
 ],
 "metadata": {
  "kernelspec": {
   "display_name": "Python 3",
   "language": "python",
   "name": "python3"
  },
  "language_info": {
   "codemirror_mode": {
    "name": "ipython",
    "version": 3
   },
   "file_extension": ".py",
   "mimetype": "text/x-python",
   "name": "python",
   "nbconvert_exporter": "python",
   "pygments_lexer": "ipython3",
   "version": "3.8.3"
  }
 },
 "nbformat": 4,
 "nbformat_minor": 4
}
